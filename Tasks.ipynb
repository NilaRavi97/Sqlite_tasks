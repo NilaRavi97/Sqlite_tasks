{
 "cells": [
  {
   "cell_type": "markdown",
   "id": "f3065486",
   "metadata": {},
   "source": [
    "## Task 1"
   ]
  },
  {
   "cell_type": "code",
   "execution_count": 2,
   "id": "3e6649bb",
   "metadata": {},
   "outputs": [
    {
     "name": "stdout",
     "output_type": "stream",
     "text": [
      "The visitor who created the most revenue is:\n",
      "47447038460279\n"
     ]
    }
   ],
   "source": [
    "#Python script to find out which visitor created the most revenue.\n",
    "\n",
    "import sqlite3\n",
    "connection = sqlite3.connect(\"transactions.db\")\n",
    "cursor = connection.cursor()\n",
    "cursor.execute(\"SELECT visitor_id FROM Transactions ORDER BY revenue DESC LIMIT 1\")\n",
    "results = cursor.fetchone()[0]\n",
    "print(\"The visitor who created the most revenue is:\")\n",
    "print(results)\n",
    "cursor.close()\n",
    "connection.close()"
   ]
  },
  {
   "cell_type": "markdown",
   "id": "8d06ab8a",
   "metadata": {},
   "source": [
    "## Task 2"
   ]
  },
  {
   "cell_type": "code",
   "execution_count": 60,
   "id": "afa3f941",
   "metadata": {},
   "outputs": [
    {
     "name": "stdout",
     "output_type": "stream",
     "text": [
      "day most revenue for users who ordered via a mobile phone was created:\n",
      "2019-09-15\n"
     ]
    }
   ],
   "source": [
    "#Python script to find out on which day most revenue for users who ordered via a mobile phone was created\n",
    "\n",
    "import sqlite3\n",
    "connection = sqlite3.connect(\"transactions.db\")\n",
    "cursor = connection.cursor()\n",
    "cursor.execute(\"SELECT DATE(datetime) FROM Transactions WHERE device_type in (SELECT id from Devices WHERE device_name = 'Mobile Phone') GROUP BY datetime ORDER BY sum(revenue) desc LIMIT 1\")\n",
    "results = cursor.fetchone()[0]\n",
    "print(\"day most revenue for users who ordered via a mobile phone was created:\")\n",
    "print(results)\n",
    "cursor.close()\n",
    "connection.close()"
   ]
  },
  {
   "cell_type": "code",
   "execution_count": 3,
   "id": "1dba7614",
   "metadata": {},
   "outputs": [
    {
     "name": "stdout",
     "output_type": "stream",
     "text": [
      "('2019-09-15', 20204.95143740077)\n"
     ]
    }
   ],
   "source": [
    "#printing the total revenue collected on the day 2019-09-15 by the users who ordered via mobile phone\n",
    "\n",
    "import sqlite3\n",
    "connection = sqlite3.connect(\"transactions.db\")\n",
    "cursor = connection.cursor()\n",
    "cursor.execute(\"SELECT DATE(datetime),sum(revenue) FROM Transactions WHERE device_type in (SELECT id from Devices WHERE device_name = 'Mobile Phone') GROUP BY datetime ORDER BY sum(revenue) desc LIMIT 1 \")\n",
    "results = cursor.fetchall()\n",
    "for r in results:\n",
    "    print(r)\n",
    "cursor.close()\n",
    "connection.close()"
   ]
  },
  {
   "cell_type": "markdown",
   "id": "78990b66",
   "metadata": {},
   "source": [
    "## Task 3"
   ]
  },
  {
   "cell_type": "code",
   "execution_count": 4,
   "id": "8b0fb795",
   "metadata": {},
   "outputs": [],
   "source": [
    "#Python script that combines the contents of Devices and Transactions and store it as a single flat file including the \n",
    "#column names\n",
    "\n",
    "#output is stored in the file output.csv\n",
    "\n",
    "import sqlite3 as db\n",
    "import csv\n",
    "\n",
    "# Running the query, the result is stored as 'data'\n",
    "with db.connect('transactions.db') as conn:\n",
    "    cur = conn.cursor()\n",
    "    sql = \"SELECT t.id,t.datetime,t.visitor_id,t.device_type,t.revenue,t.tax,d.device_name FROM Transactions as t JOIN Devices as d on t.device_type = d.id\"\n",
    "    cur.execute(sql)\n",
    "    data = cur.fetchall()\n",
    "\n",
    "# Create the csv file\n",
    "with open('output.csv', 'w', newline='') as f_handle:\n",
    "    writer = csv.writer(f_handle)\n",
    "    # Add the header/column names\n",
    "    header = ['id', 'datetime', 'visitor_id', 'device_type','revenue','tax','device_name']\n",
    "    writer.writerow(header)\n",
    "    # Iterate over 'data'  and  write to the csv file\n",
    "    for row in data:\n",
    "        writer.writerow(row)"
   ]
  },
  {
   "cell_type": "markdown",
   "id": "d03f19f8",
   "metadata": {},
   "source": [
    "## Task 4"
   ]
  },
  {
   "cell_type": "code",
   "execution_count": 6,
   "id": "98496a55",
   "metadata": {},
   "outputs": [],
   "source": [
    "#Update the data stored in the database to have the created revenue in EUR.\n",
    "\n",
    "import sqlite3\n",
    "import xmltodict\n",
    "\n",
    "conn = sqlite3.connect(\"transactions.db\")\n",
    "c = conn.cursor()\n",
    "\n",
    "with open(\"eurofxref-hist-90d.xml\") as fd:\n",
    "    obj = xmltodict.parse(fd.read())\n",
    "\n",
    "def extraction():\n",
    "    for i in range(0,len(obj['gesmes:Envelope']['Cube']['Cube'])):\n",
    "        date = obj['gesmes:Envelope']['Cube']['Cube'][i]['@time']\n",
    "        rate = obj['gesmes:Envelope']['Cube']['Cube'][i]['Cube'][0]['@rate']\n",
    "        frate = float(rate)\n",
    "        update_task(conn, (frate, date))\n",
    "\n",
    "def update_task(connection, task):\n",
    "    \"\"\"\n",
    "    update Transactions\n",
    "    :param conn:\n",
    "    :param task:\n",
    "    \"\"\"\n",
    "    sql = ''' UPDATE Transactions\n",
    "              SET revenue = revenue * ? \n",
    "              WHERE DATE(datetime) = ?'''\n",
    "    cur = conn.cursor()\n",
    "    cur.execute(sql, task)\n",
    "    conn.commit()\n",
    "\n",
    "if __name__ == \"__main__\":\n",
    "    extraction()\n"
   ]
  },
  {
   "cell_type": "code",
   "execution_count": 1,
   "id": "71304b86",
   "metadata": {},
   "outputs": [
    {
     "name": "stdout",
     "output_type": "stream",
     "text": [
      "(1, '2019-10-05 00:00:00', 1016870803637, 1, 173.3314596961336, 0.19)\n",
      "(2, '2019-10-11 00:00:00', 48076008851343, 4, 320.36333994771235, 0.07)\n",
      "(3, '2019-08-19 00:00:00', 72300317870324, 2, 567.8275631154788, 0.07)\n",
      "(4, '2019-10-14 00:00:00', 84516511452821, 3, 655.1040690856495, 0.19)\n",
      "(5, '2019-09-10 00:00:00', 44780848857001, 3, 744.4053360212473, 0.07)\n",
      "(6, '2019-09-20 00:00:00', 54145933160851, 2, 65.88912097116538, 0.07)\n",
      "(7, '2019-10-13 00:00:00', 68564288760762, 4, 512.0134481572289, 0.19)\n",
      "(8, '2019-10-22 00:00:00', 74593067572606, 2, 189.36753885395905, 0.07)\n",
      "(9, '2019-08-12 00:00:00', 74912374801029, 4, 965.7485939496092, 0.07)\n",
      "(10, '2019-10-25 00:00:00', 67206600864292, 4, 32.94992557810085, 0.07)\n"
     ]
    }
   ],
   "source": [
    "#printing the table value after updation. we can see that the revenue is converted to EUR\n",
    "import sqlite3\n",
    "connection = sqlite3.connect(\"transactions.db\")\n",
    "cursor = connection.cursor()\n",
    "cursor.execute(\"SELECT * from Transactions LIMIT 10\")\n",
    "results = cursor.fetchall()\n",
    "for r in results:\n",
    "    print(r)\n",
    "cursor.close()\n",
    "connection.close()"
   ]
  },
  {
   "cell_type": "markdown",
   "id": "ef081a85",
   "metadata": {},
   "source": [
    "## Task 5"
   ]
  },
  {
   "cell_type": "markdown",
   "id": "5b6572db",
   "metadata": {},
   "source": [
    "Imagine you have to add support for other DBMS, how would you address this request?\n",
    "\n",
    "From the provided Sqlite database, I generated csv files for transactions and Devices table(like i did in the task 3). Then I copied the csv files to postgresql using the below commands,\n",
    "\n",
    "COPY public.\"Devices\"(id, device_name) FROM 'C:\\Users\\Nila\\Downloads\\result\\Devices.csv' DELIMITER ',' CSV HEADER;\n",
    "\n",
    "COPY public.\"Transactions\"(id,datetime,visitor_id,device_type,revenue,tax) FROM 'C:\\Users\\Nila\\Downloads\\result\\Transactions.csv' DELIMITER ',' CSV HEADER;\n",
    "\n",
    "Then, re-executed the task 2 with postgres database"
   ]
  },
  {
   "cell_type": "code",
   "execution_count": null,
   "id": "974e6525",
   "metadata": {},
   "outputs": [],
   "source": [
    "#creating csv file for transactions table\n",
    "\n",
    "import sqlite3 as db\n",
    "import csv\n",
    "\n",
    "# Running the query, the result is stored as 'data'\n",
    "with db.connect('transactions.db') as conn:\n",
    "    cur = conn.cursor()\n",
    "    sql = \"SELECT * FROM Transactions\"\n",
    "    cur.execute(sql)\n",
    "    data = cur.fetchall()\n",
    "\n",
    "# Create the csv file\n",
    "with open('transactions.csv', 'w', newline='') as f_handle:\n",
    "    writer = csv.writer(f_handle)\n",
    "    # Add the header/column names\n",
    "    header = ['id', 'datetime', 'visitor_id', 'device_type','revenue','tax']\n",
    "    writer.writerow(header)\n",
    "    # Iterate over 'data'  and  write to the csv file\n",
    "    for row in data:\n",
    "        writer.writerow(row)"
   ]
  },
  {
   "cell_type": "code",
   "execution_count": null,
   "id": "0099dff7",
   "metadata": {},
   "outputs": [],
   "source": [
    "#creating csv file for devices table\n",
    "\n",
    "import sqlite3 as db\n",
    "import csv\n",
    "\n",
    "# Running the query, the result is stored as 'data'\n",
    "with db.connect('transactions.db') as conn:\n",
    "    cur = conn.cursor()\n",
    "    sql = \"SELECT * FROM Devices\"\n",
    "    cur.execute(sql)\n",
    "    data = cur.fetchall()\n",
    "\n",
    "# Create the csv file\n",
    "with open('Devices.csv', 'w', newline='') as f_handle:\n",
    "    writer = csv.writer(f_handle)\n",
    "    # Add the header/column names\n",
    "    header = ['id', 'device_name']\n",
    "    writer.writerow(header)\n",
    "    # Iterate over 'data'  and  write to the csv file\n",
    "    for row in data:\n",
    "        writer.writerow(row)"
   ]
  },
  {
   "cell_type": "code",
   "execution_count": 13,
   "id": "c8b7400c",
   "metadata": {},
   "outputs": [
    {
     "name": "stdout",
     "output_type": "stream",
     "text": [
      "day most revenue for users who ordered via a mobile phone was created:\n",
      "2019-09-15\n",
      "PostgreSQL connection is closed\n"
     ]
    }
   ],
   "source": [
    "#Re-executing task2 with postgresql database.\n",
    "\n",
    "import psycopg2\n",
    "try:\n",
    "    connection = psycopg2.connect(user=\"postgres\",\n",
    "                                  password=\"pass\",\n",
    "                                  host=\"127.0.0.1\",\n",
    "                                  port=\"5432\",\n",
    "                                  database=\"transactions\")\n",
    "    cursor = connection.cursor()\n",
    "    cursor.execute(\"\"\"SELECT DATE(datetime),sum(revenue) FROM public.\"Transactions\" WHERE device_type in (SELECT id from public.\"Devices\" WHERE device_name = 'Mobile Phone') GROUP BY datetime ORDER BY sum(revenue) desc LIMIT 1 ;\"\"\")\n",
    "    results = cursor.fetchone()[0]\n",
    "    print(\"day most revenue for users who ordered via a mobile phone was created:\")\n",
    "    print(results)\n",
    "except (Exception, psycopg2.Error) as error:\n",
    "    print(\"Error while fetching data from PostgreSQL\", error)\n",
    "\n",
    "finally:\n",
    "    # closing database connection.\n",
    "    if connection:\n",
    "        cursor.close()\n",
    "        connection.close()\n",
    "        print(\"PostgreSQL connection is closed\")"
   ]
  }
 ],
 "metadata": {
  "kernelspec": {
   "display_name": "Python 3 (ipykernel)",
   "language": "python",
   "name": "python3"
  },
  "language_info": {
   "codemirror_mode": {
    "name": "ipython",
    "version": 3
   },
   "file_extension": ".py",
   "mimetype": "text/x-python",
   "name": "python",
   "nbconvert_exporter": "python",
   "pygments_lexer": "ipython3",
   "version": "3.9.12"
  }
 },
 "nbformat": 4,
 "nbformat_minor": 5
}
